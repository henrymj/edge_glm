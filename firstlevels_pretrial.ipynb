{
 "cells": [
  {
   "cell_type": "code",
   "execution_count": 1,
   "id": "71896f8d-4cc2-4064-9469-3330d68d24a7",
   "metadata": {},
   "outputs": [
    {
     "name": "stderr",
     "output_type": "stream",
     "text": [
      "/opt/homebrew/Caskroom/miniforge/base/envs/accel/lib/python3.10/site-packages/nilearn/glm/__init__.py:55: FutureWarning: The nilearn.glm module is experimental. It may change in any future release of Nilearn.\n",
      "  warn('The nilearn.glm module is experimental. '\n"
     ]
    }
   ],
   "source": [
    "import numpy as np\n",
    "import pandas as pd\n",
    "from os import path\n",
    "from collections import defaultdict\n",
    "from scipy.io import loadmat\n",
    "\n",
    "# imports for data loading, processing and analysis\n",
    "from utils.io import get_args, get_firstlevel_dir, save_args, load_data\n",
    "from utils.preprocessing import set_get_timeseries, build_sub_run_df"
   ]
  },
  {
   "cell_type": "code",
   "execution_count": 2,
   "id": "dc77b6a2",
   "metadata": {},
   "outputs": [],
   "source": [
    "# Set rng for replication\n",
    "np.random.seed(2022)"
   ]
  },
  {
   "cell_type": "code",
   "execution_count": 3,
   "id": "e28d47d0-3029-4f53-854a-2a02690dd578",
   "metadata": {},
   "outputs": [],
   "source": [
    "args = get_args(['-dataset', '2'])\n",
    "\n",
    "# Set up directories, load data\n",
    "results_dir = get_firstlevel_dir(args)\n",
    "save_args(args, results_dir)\n",
    "\n",
    "ridx, cidx = np.tril_indices(args.nROI, -1)\n",
    "get_timeseries = set_get_timeseries(args, ridx, cidx)  # set the type of timeseries to use, ROI or edge\n",
    "\n",
    "timeseries_data, sub_file_map, sublist, ntr_tossed = load_data(args)"
   ]
  },
  {
   "cell_type": "code",
   "execution_count": 4,
   "id": "9ee2ab0f-bed9-4e17-a82f-6593c095cf7a",
   "metadata": {},
   "outputs": [],
   "source": [
    "def add_trial_types(sub_run_df):\n",
    "    sub_run_df.insert(0, 'modulation', 1)\n",
    "    sub_run_df.insert(0, 'duration', 1)\n",
    "    sub_run_df.insert(0, 'onset', sub_run_df[0])\n",
    "    sub_run_df.insert(0, 'trial_type', None)\n",
    "    (rare_cond,common_cond) = (1,2) if len(sub_run_df.query(\"condition==1\"))<len(sub_run_df.query(\"condition==2\")) else (2,1)\n",
    "\n",
    "\n",
    "    sub_run_df.loc[(sub_run_df.condition==rare_cond) & (sub_run_df.acc==1), 'trial_type'] = 'probe_success'\n",
    "    sub_run_df.loc[(sub_run_df.condition==rare_cond) & (sub_run_df.acc==-1), 'trial_type'] = 'probe_fail'\n",
    "    sub_run_df.loc[(sub_run_df.condition==common_cond) & (sub_run_df.acc==-1), 'trial_type'] = 'common_fail'\n",
    "    \n",
    "    return sub_run_df\n",
    "\n",
    "def get_preceding_trs(row, times):\n",
    "    if row['first_preceding_onset'] is None:\n",
    "        return None\n",
    "    else:\n",
    "        return times[(times < row['onset']) & (times >= row['first_preceding_onset'])]\n",
    "    \n",
    "def mean_across_preceding_trs(tr_arr, timeseries_df):\n",
    "    if (tr_arr is None):\n",
    "        return None\n",
    "    else:\n",
    "        return timeseries_df.loc[tr_arr, :].mean(0).values"
   ]
  },
  {
   "cell_type": "code",
   "execution_count": 5,
   "id": "95625768-33a1-4d04-af52-bbd9eeffd692",
   "metadata": {
    "tags": []
   },
   "outputs": [
    {
     "name": "stdout",
     "output_type": "stream",
     "text": [
      "sub:  0\n",
      "sub:  1\n",
      "sub:  2\n",
      "sub:  3\n",
      "sub:  4\n",
      "sub:  5\n",
      "sub:  6\n",
      "sub:  7\n",
      "sub:  8\n",
      "sub:  9\n",
      "sub:  10\n",
      "sub:  11\n",
      "sub:  12\n",
      "sub:  13\n",
      "sub:  14\n",
      "sub:  15\n",
      "sub:  16\n",
      "sub:  17\n",
      "sub:  18\n",
      "sub:  19\n",
      "sub:  20\n",
      "sub:  21\n",
      "sub:  22\n",
      "skipping sub 22 run 2\n",
      "sub:  23\n",
      "sub:  24\n"
     ]
    }
   ],
   "source": [
    "# PREPROCESS BEHAV DATA, FIND PRETRIAL DATA\n",
    "des_mat_dict = defaultdict(list)\n",
    "for sidx, sub in enumerate(sublist):\n",
    "    print('sub: ', sidx)\n",
    "    sub_files = sub_file_map[sidx]\n",
    "\n",
    "    for runidx, sub_file in enumerate(sub_files):        \n",
    "        \n",
    "        sub_trs = np.arange(timeseries_data[sidx][runidx].shape[0])*args.t_r\n",
    "        \n",
    "        skip_session = False\n",
    "        \n",
    "        if (int(args.dataset)==1) and (sidx==22) and (runidx==2): # SKIP RUN WITH NO CORRECT OMISSIONS (see QA_trial_counts)\n",
    "            print(f'skipping sub {sidx} run {runidx}')\n",
    "            skip_session = True\n",
    "            pass\n",
    "        \n",
    "        sub_run_df = build_sub_run_df(loadmat(sub_file), ntr_tossed, args)\n",
    "        curr_timeseries = get_timeseries(timeseries_data[sidx][runidx])\n",
    "\n",
    "        if int(args.dataset)==2:\n",
    "            bad_trs = np.argwhere(np.apply_along_axis(lambda x: np.isnan(x).all(), axis=1, arr=curr_timeseries)).flatten()\n",
    "\n",
    "            if len(bad_trs)/curr_timeseries.shape[0] >= args.dataset2_censor_thresh: # skip subjects with too many censored timepoints\n",
    "                print(f'skipping sub {sidx} run {runidx}')\n",
    "                skip_session = True\n",
    "                pass\n",
    "            \n",
    "        sub_run_df = add_trial_types(sub_run_df)\n",
    "        \n",
    "        # Use sub_run trial onsets to interpolate timeseries\n",
    "        timeseries_df = pd.DataFrame(curr_timeseries)\n",
    "        timeseries_df.insert(0, 'onset', np.arange(len(timeseries_df)))\n",
    "        timeseries_df = pd.concat([timeseries_df, sub_run_df[['onset']]])\n",
    "        timeseries_df = timeseries_df.sort_values(by='onset').set_index('onset')\n",
    "        timeseries_df = timeseries_df.interpolate('slinear')\n",
    "\n",
    "        trs_ext = timeseries_df.index.values\n",
    "        \n",
    "        # Subset to relevant conditions, find preceding TRs, and mean across them\n",
    "        sub_run_df['first_preceding_onset'] = None\n",
    "        sub_run_df.loc[args.nTrials_preceding:, 'first_preceding_onset'] = sub_run_df.iloc[:-args.nTrials_preceding]['onset'].values\n",
    "\n",
    "        sub_run_df = sub_run_df[sub_run_df.trial_type.notnull()].reset_index(drop=True)\n",
    "        \n",
    "        sub_run_df.loc[:, 'preceding_trs'] = sub_run_df.apply(lambda x: get_preceding_trs(x, timeseries_df.index.values), axis=1)\n",
    "        sub_run_df.loc[:, 'edge_means_of_preceding_trs'] = sub_run_df.preceding_trs.apply(lambda x: mean_across_preceding_trs(x, timeseries_df))\n",
    "\n",
    "        if not skip_session:\n",
    "            des_mat_dict[sub].append(sub_run_df)"
   ]
  },
  {
   "cell_type": "code",
   "execution_count": 6,
   "id": "52fb8314-8cad-4063-9966-81810dbf63e5",
   "metadata": {},
   "outputs": [],
   "source": [
    "if args.replicate:\n",
    "    Diff_matrix = np.full((len(sublist), args.nROI), np.nan)\n",
    "else:\n",
    "    Diff_matrix = np.full((len(sublist), len(ridx)), np.nan)\n",
    "for sid, sub in enumerate(des_mat_dict):\n",
    "    full_sub_df = pd.concat(des_mat_dict[sub])\n",
    "    full_sub_df = full_sub_df[full_sub_df.edge_means_of_preceding_trs.notnull()]\n",
    "    CO_means = np.vstack(full_sub_df.query('trial_type==\"probe_success\"').edge_means_of_preceding_trs.values)\n",
    "    CE_means = np.vstack(full_sub_df.query('trial_type==\"probe_fail\"').edge_means_of_preceding_trs.values)\n",
    "\n",
    "    Diff_matrix[sid, :] = np.nanmean(CO_means, 0) - np.nanmean(CE_means, 0) # sub7 (sidx=6) has one probe fail that occurred after scan had stopped (822s)\n",
    "    \n",
    "pd.DataFrame(Diff_matrix).to_csv(path.join(results_dir, f'model-trialPrecursor_datatype-{\"roi\" if args.use_rois else \"edge\"}.csv'), index=False)"
   ]
  },
  {
   "cell_type": "code",
   "execution_count": null,
   "id": "2dda0455-11f3-48fb-8e43-e85d15be7bc0",
   "metadata": {},
   "outputs": [],
   "source": []
  }
 ],
 "metadata": {
  "kernelspec": {
   "display_name": "Python 3 (ipykernel)",
   "language": "python",
   "name": "python3"
  },
  "language_info": {
   "codemirror_mode": {
    "name": "ipython",
    "version": 3
   },
   "file_extension": ".py",
   "mimetype": "text/x-python",
   "name": "python",
   "nbconvert_exporter": "python",
   "pygments_lexer": "ipython3",
   "version": "3.10.2"
  }
 },
 "nbformat": 4,
 "nbformat_minor": 5
}
