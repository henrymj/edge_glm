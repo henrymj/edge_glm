{
 "cells": [
  {
   "cell_type": "code",
   "execution_count": null,
   "id": "71896f8d-4cc2-4064-9469-3330d68d24a7",
   "metadata": {},
   "outputs": [],
   "source": [
    "import numpy as np\n",
    "import pandas as pd\n",
    "from os import path\n",
    "from collections import defaultdict\n",
    "from scipy.io import loadmat\n",
    "from nilearn.glm.first_level import FirstLevelModel\n",
    "\n",
    "# imports for data loading, processing and analysis\n",
    "from utils.io import get_args, get_firstlevel_dir, save_args, load_data\n",
    "from utils.preprocessing import set_get_timeseries, build_sub_run_df, convert_df_to_desMat, add_VTC_get_breaks, exclude_irrelevant_VTC_TRs, check_dataset2_censored_trs\n",
    "from utils.nilearn_analysis import get_contrast_info, fit_edge_flm, compute_edge_contrast"
   ]
  },
  {
   "cell_type": "code",
   "execution_count": null,
   "id": "ea550ece",
   "metadata": {},
   "outputs": [],
   "source": [
    "# Set rng for replication\n",
    "np.random.seed(2022)"
   ]
  },
  {
   "cell_type": "code",
   "execution_count": null,
   "id": "00043a47-4b2f-4f21-a123-b11560166f91",
   "metadata": {},
   "outputs": [],
   "source": [
    "args = get_args(['-dataset', '2'])\n",
    "\n",
    "# Set up directories, load data\n",
    "results_dir = get_firstlevel_dir(args)\n",
    "save_args(args, results_dir)\n",
    "\n",
    "ridx, cidx = np.tril_indices(args.nROI, -1)\n",
    "get_timeseries = set_get_timeseries(args, ridx, cidx)  # set the type of timeseries to use, ROI or edge\n",
    "\n",
    "contrasts, contrast_cols = get_contrast_info(args)\n",
    "\n",
    "timeseries_data, sub_file_map, sublist, ntr_tossed = load_data(args)"
   ]
  },
  {
   "cell_type": "code",
   "execution_count": null,
   "id": "95625768-33a1-4d04-af52-bbd9eeffd692",
   "metadata": {
    "tags": []
   },
   "outputs": [],
   "source": [
    "# PREPROCESS BEHAV DATA, MAKE DESIGN MATRICES\n",
    "des_mat_dict = defaultdict(list)\n",
    "fitable_timeseries = defaultdict(list)\n",
    "for sidx, sub in enumerate(sublist):\n",
    "    sub_files = sub_file_map[sidx]\n",
    "\n",
    "    for runidx, sub_file in enumerate(sub_files):\n",
    "        sub_trs = np.arange(timeseries_data[sidx][runidx].shape[0])*args.t_r\n",
    "        \n",
    "        sub_run_df = build_sub_run_df(loadmat(sub_file), ntr_tossed, args)\n",
    "        \n",
    "        sub_run_df, (break_onsets, break_offsets, break_durations) = add_VTC_get_breaks(sub_run_df, args)\n",
    "\n",
    "        sub_run_desmat = convert_df_to_desMat(\n",
    "                sub_run_df,\n",
    "                sub_trs,\n",
    "                model=args.model,\n",
    "                VTC_shift = args.VTC_shift,\n",
    "                break_durations=break_durations,\n",
    "            )\n",
    "\n",
    "        # Include a session if a subject experienced all trial types for the contrast\n",
    "        # sidx=22, runidx=2 is the only session that does not contain all events for the contrast in dataset 1 (missing COs)\n",
    "        # sidx=45, runidx=0 is the only session that does not contain all events for the contrast in dataset 2 (missing OEs)\n",
    "        if all(ev in sub_run_desmat.columns for ev in contrast_cols):\n",
    "            curr_timeseries = get_timeseries(timeseries_data[sidx][runidx])\n",
    "            \n",
    "            curr_timeseries, sub_run_desmat, skip_session = check_dataset2_censored_trs(sub_run_desmat, curr_timeseries, args)\n",
    "                \n",
    "            if not skip_session:\n",
    "                sub_run_desmat, curr_timeseries = exclude_irrelevant_VTC_TRs(sub_run_desmat, curr_timeseries, args, break_onsets, break_offsets)\n",
    "\n",
    "                des_mat_dict[sub].append(sub_run_desmat)    \n",
    "                fitable_timeseries[sub].append(curr_timeseries)\n",
    "        else:\n",
    "            print(f'Skipping {sub} run {runidx} because it does not contain all events for the contrast')"
   ]
  },
  {
   "cell_type": "code",
   "execution_count": null,
   "id": "5fdbf8b4-93b4-4e09-a661-b1a49d6ec426",
   "metadata": {
    "tags": []
   },
   "outputs": [],
   "source": [
    "# FIRST LEVEL MODELS\n",
    "contrast_dfs = defaultdict(pd.DataFrame)\n",
    "for sidx, sub in enumerate(des_mat_dict.keys()):\n",
    "    if len(des_mat_dict[sub]):\n",
    "        fitted_flm = fit_edge_flm(\n",
    "            FirstLevelModel(t_r=args.t_r, signal_scaling=args.signal_scaling, noise_model=args.glm_noise_model, n_jobs=6),\n",
    "            run_Ys=fitable_timeseries[sub],\n",
    "            design_matrices=des_mat_dict[sub],\n",
    "        )\n",
    "        for con in contrasts:\n",
    "            if sidx=='subNDARDW205DVZ' and con=='common_fail':  # this participant did not make any omission errors\n",
    "                pass\n",
    "            else:\n",
    "                estimates = compute_edge_contrast(fitted_flm, con, stat_type='t', output_type='stat')['estimate']\n",
    "\n",
    "                if args.use_rois and not args.replicate:\n",
    "                    roi_estimates = (estimates[:, np.newaxis] * estimates[np.newaxis, :])[ridx, cidx]\n",
    "                    estimates = np.sign(roi_estimates) * np.sqrt(abs(roi_estimates))\n",
    "\n",
    "                contrast_dfs[con] = pd.concat([contrast_dfs[con], \n",
    "                                              pd.DataFrame(estimates).T\n",
    "                                              ])"
   ]
  },
  {
   "cell_type": "code",
   "execution_count": null,
   "id": "33516caa-3c7c-44d4-8157-b6db766d1388",
   "metadata": {},
   "outputs": [],
   "source": [
    "# SAVE FIRSTLEVEL RESULTS\n",
    "results_str = f'model-{args.model}_contrast-%s_datatype-{\"roi\" if args.use_rois else \"edge\"}.csv'\n",
    "for con in contrasts:\n",
    "    contrast_dfs[con].to_csv(path.join(results_dir, results_str % con), index=False)"
   ]
  }
 ],
 "metadata": {
  "kernelspec": {
   "display_name": "Python 3 (ipykernel)",
   "language": "python",
   "name": "python3"
  },
  "language_info": {
   "codemirror_mode": {
    "name": "ipython",
    "version": 3
   },
   "file_extension": ".py",
   "mimetype": "text/x-python",
   "name": "python",
   "nbconvert_exporter": "python",
   "pygments_lexer": "ipython3",
   "version": "3.10.11"
  }
 },
 "nbformat": 4,
 "nbformat_minor": 5
}
